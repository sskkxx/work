{
 "cells": [
  {
   "cell_type": "code",
   "execution_count": 20,
   "metadata": {},
   "outputs": [],
   "source": [
    "import requests\n",
    "import re\n",
    "class Public:\n",
    "    \n",
    "    def getDatetime(url):\n",
    "        time=re.compile(r'(2017-\\d\\d-\\d\\d \\d\\d:\\d\\d:\\d\\d)')\n",
    "        return re.findall(time,requests.get(url).text)\n",
    "    \n",
    "    \n",
    "    def getData(lis,position):\n",
    "    \n",
    "        for j in lis:\n",
    "            if '楼兰' in j.text:\n",
    "                print('楼兰',position,j.text)\n",
    "            if '天籁' in jj.text:\n",
    "                print('天籁',position,j.text)\n",
    "            if '途乐' in j.text:\n",
    "                print('途乐',position,j.text)\n",
    "            if '聆风' in j.text:\n",
    "                print('聆风',position,j.text)\n",
    "            if '西玛' in j.text:\n",
    "                print('西玛',position,j.text)\n",
    "            if 'GT-R' in j.text:\n",
    "                print('GT-R',position,j.text)\n",
    "            if '东风日产' in j.text:\n",
    "                print('东风日产',position,j.text)"
   ]
  },
  {
   "cell_type": "code",
   "execution_count": null,
   "metadata": {},
   "outputs": [],
   "source": []
  },
  {
   "cell_type": "code",
   "execution_count": 18,
   "metadata": {},
   "outputs": [
    {
     "data": {
      "text/plain": [
       "'2017-10-19 12:09:18'"
      ]
     },
     "execution_count": 18,
     "metadata": {},
     "output_type": "execute_result"
    }
   ],
   "source": [
    "Pulic.getDatetime('http://www.pcauto.com.cn/news/1082/10829098.html')[0]"
   ]
  }
 ],
 "metadata": {
  "kernelspec": {
   "display_name": "Python 3",
   "language": "python",
   "name": "python3"
  },
  "language_info": {
   "codemirror_mode": {
    "name": "ipython",
    "version": 3
   },
   "file_extension": ".py",
   "mimetype": "text/x-python",
   "name": "python",
   "nbconvert_exporter": "python",
   "pygments_lexer": "ipython3",
   "version": "3.6.3"
  }
 },
 "nbformat": 4,
 "nbformat_minor": 2
}

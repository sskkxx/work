{
 "cells": [
  {
   "cell_type": "code",
   "execution_count": null,
   "metadata": {
    "scrolled": true
   },
   "outputs": [],
   "source": [
    "import pandas as pd\n",
    "import numpy as np\n",
    "def getFileName(n):\n",
    "    path=r'E:\\试用\\新建 Microsoft Excel 工作表.xlsx'\n",
    "    news=pd.read_excel(path)\n",
    "    new=np.array(news.tail(n))\n",
    "    a=gettime()\n",
    "    fileName=[]\n",
    "    co=0\n",
    "    for ne in new:\n",
    "        str1='-'.join([ne[11].replace(':','').split('-')[0],ne[2],ne[4],ne[5],ne[6],ne[9],a[co]])\n",
    "        fileName.append(str1)\n",
    "        co+=1\n",
    "    print(len(fileName))\n",
    "    return fileName\n",
    "getFileName(50)"
   ]
  },
  {
   "cell_type": "code",
   "execution_count": 5,
   "metadata": {},
   "outputs": [
    {
     "data": {
      "text/plain": [
       "['10 18',\n",
       " '10 18',\n",
       " '10 18',\n",
       " '10 18',\n",
       " '10 19',\n",
       " '10 20',\n",
       " '10 26',\n",
       " '10 26',\n",
       " '10 27',\n",
       " '10 27',\n",
       " '10 28',\n",
       " '10 28',\n",
       " '10 29',\n",
       " '10 31']"
      ]
     },
     "execution_count": 5,
     "metadata": {},
     "output_type": "execute_result"
    }
   ],
   "source": [
    "import os\n",
    "import os\n",
    "from datetime import datetime\n",
    "import pandas as pd\n",
    "\n",
    "def gettime():\n",
    "    path=r'E:\\苏XX的工作资料\\11月11日\\app'\n",
    "    files=os.listdir(path)\n",
    "    a=[]\n",
    "    for file in files:\n",
    "        tir=os.path.getmtime(path+'/'+file)\n",
    "        time=datetime.fromtimestamp(tir).strftime('%H %M')\n",
    "        #print(time)\n",
    "        \n",
    "        a.append(time)\n",
    "        #print(low)\n",
    "    return a\n",
    "gettime()    "
   ]
  },
  {
   "cell_type": "code",
   "execution_count": 6,
   "metadata": {},
   "outputs": [],
   "source": [
    "from datetime import datetime\n",
    "import pandas as pd\n",
    "a=gettime()\n",
    "a=sorted(a)\n",
    "b=[]\n",
    "c=0\n",
    "for i in a:\n",
    "    if c % 2 == 0:\n",
    "        str1='11月11日-'+i.replace(' ',':')\n",
    "        b.append(str1)\n",
    "    c+=1\n",
    "df=pd.DataFrame(b)\n",
    "df.to_excel(r'C:\\Users\\s\\Desktop\\niho.xlsx')"
   ]
  },
  {
   "cell_type": "code",
   "execution_count": null,
   "metadata": {},
   "outputs": [],
   "source": [
    "import os\n",
    "\n",
    "path=r'E:/试用/pictrue'\n",
    "files=os.listdir(path)\n",
    "sorted(files)\n",
    "#files.sort(key= lambda x:int(x[:-4]))\n",
    "count=0 \n",
    "p=getFileName(48)\n",
    "for file in files:\n",
    "    filer=os.path.splitext(file)\n",
    "    oldName=os.path.join(path,file)\n",
    "    newName=os.path.join(path,p[count]+filer[1])\n",
    "    print(file)\n",
    "    os.rename(oldName,newName)\n",
    "    count+=1"
   ]
  },
  {
   "cell_type": "code",
   "execution_count": null,
   "metadata": {
    "scrolled": false
   },
   "outputs": [],
   "source": [
    "import pandas as pd\n",
    "import numpy as np\n",
    "import re\n",
    "def getWapName(n):\n",
    "    path=r'E:\\试用\\新建 Microsoft Excel 工作表.xlsx'\n",
    "    news=pd.read_excel(path)\n",
    "    new1=np.array(news.tail(n))\n",
    "    new = new1[17:20]\n",
    "    fileName=[]\n",
    "    for ne in new:\n",
    "        str1='-'.join([ne[11].replace(':','').split('-')[0],ne[2],ne[4],ne[5],ne[6],re.sub('[?:/]+',' ',ne[9])])\n",
    "        str2='-'.join([ne[11].replace(':','').split('-')[0],ne[2],ne[4],ne[5],ne[6],re.sub('[[?:/]+','',ne[9]),'正文'])\n",
    "        fileName.append(str1)\n",
    "        fileName.append(str2)\n",
    "    print(len(fileName))\n",
    "    return fileName\n",
    "getWapName(19)"
   ]
  },
  {
   "cell_type": "code",
   "execution_count": null,
   "metadata": {},
   "outputs": [],
   "source": [
    "import os\n",
    "\n",
    "path=r'E:/试用/pictrue'\n",
    "files=os.listdir(path)\n",
    "print(len(files))\n",
    "\n",
    "#if len(files)!=len(p):\n",
    "sorted(files)\n",
    "#files.sort(key= lambda x:int(x[:-4]))\n",
    "count=0 \n",
    "p=getWapName(19)\n",
    "for file in files:\n",
    "    filer=os.path.splitext(file)\n",
    "    oldName=os.path.join(path,file)\n",
    "    newName=os.path.join(path,p[count]+filer[1])\n",
    "    print(file)\n",
    "    os.rename(oldName,newName)\n",
    "    count+=1"
   ]
  }
 ],
 "metadata": {
  "kernelspec": {
   "display_name": "Python 3",
   "language": "python",
   "name": "python3"
  },
  "language_info": {
   "codemirror_mode": {
    "name": "ipython",
    "version": 3
   },
   "file_extension": ".py",
   "mimetype": "text/x-python",
   "name": "python",
   "nbconvert_exporter": "python",
   "pygments_lexer": "ipython3",
   "version": "3.6.3"
  }
 },
 "nbformat": 4,
 "nbformat_minor": 2
}

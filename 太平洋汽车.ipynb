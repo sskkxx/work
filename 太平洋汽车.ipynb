{
 "cells": [
  {
   "cell_type": "code",
   "execution_count": 15,
   "metadata": {},
   "outputs": [
    {
     "ename": "TypeError",
     "evalue": "not enough arguments for format string",
     "output_type": "error",
     "traceback": [
      "\u001b[1;31m---------------------------------------------------------------------------\u001b[0m",
      "\u001b[1;31mTypeError\u001b[0m                                 Traceback (most recent call last)",
      "\u001b[1;32m<ipython-input-15-c3c338186695>\u001b[0m in \u001b[0;36m<module>\u001b[1;34m()\u001b[0m\n\u001b[0;32m     28\u001b[0m \u001b[0mconn\u001b[0m \u001b[1;33m=\u001b[0m \u001b[0mpymysql\u001b[0m\u001b[1;33m.\u001b[0m\u001b[0mconnect\u001b[0m\u001b[1;33m(\u001b[0m\u001b[0mhost\u001b[0m\u001b[1;33m=\u001b[0m\u001b[1;34m'127.0.0.1'\u001b[0m\u001b[1;33m,\u001b[0m \u001b[0mport\u001b[0m\u001b[1;33m=\u001b[0m\u001b[1;36m3306\u001b[0m\u001b[1;33m,\u001b[0m \u001b[0muser\u001b[0m\u001b[1;33m=\u001b[0m\u001b[1;34m'root'\u001b[0m\u001b[1;33m,\u001b[0m \u001b[0mpasswd\u001b[0m\u001b[1;33m=\u001b[0m\u001b[1;34m''\u001b[0m\u001b[1;33m,\u001b[0m\u001b[0mdb\u001b[0m\u001b[1;33m=\u001b[0m\u001b[1;34m'my_file'\u001b[0m\u001b[1;33m)\u001b[0m\u001b[1;33m\u001b[0m\u001b[0m\n\u001b[0;32m     29\u001b[0m \u001b[0mcur\u001b[0m\u001b[1;33m=\u001b[0m\u001b[0mconn\u001b[0m\u001b[1;33m.\u001b[0m\u001b[0mcursor\u001b[0m\u001b[1;33m(\u001b[0m\u001b[1;33m)\u001b[0m\u001b[1;33m\u001b[0m\u001b[0m\n\u001b[1;32m---> 30\u001b[1;33m \u001b[0mcur\u001b[0m\u001b[1;33m.\u001b[0m\u001b[0mexecute\u001b[0m\u001b[1;33m(\u001b[0m\u001b[1;34m'insert into file_name2 (car,position,create_time,mesage,href) values (%s,%s,%s,%s,%s)'\u001b[0m\u001b[1;33m,\u001b[0m\u001b[0mdata\u001b[0m\u001b[1;33m)\u001b[0m\u001b[1;33m\u001b[0m\u001b[0m\n\u001b[0m\u001b[0;32m     31\u001b[0m \u001b[0mconn\u001b[0m\u001b[1;33m.\u001b[0m\u001b[0mcommit\u001b[0m\u001b[1;33m(\u001b[0m\u001b[1;33m)\u001b[0m\u001b[1;33m\u001b[0m\u001b[0m\n\u001b[0;32m     32\u001b[0m \u001b[0mcur\u001b[0m\u001b[1;33m.\u001b[0m\u001b[0mclose\u001b[0m\u001b[1;33m(\u001b[0m\u001b[1;33m)\u001b[0m\u001b[1;33m\u001b[0m\u001b[0m\n",
      "\u001b[1;32md:\\users\\s\\appdata\\local\\programs\\python\\python36\\lib\\site-packages\\pymysql\\cursors.py\u001b[0m in \u001b[0;36mexecute\u001b[1;34m(self, query, args)\u001b[0m\n\u001b[0;32m    103\u001b[0m                 \u001b[0mescaped_args\u001b[0m \u001b[1;33m=\u001b[0m \u001b[0mconn\u001b[0m\u001b[1;33m.\u001b[0m\u001b[0mescape\u001b[0m\u001b[1;33m(\u001b[0m\u001b[0margs\u001b[0m\u001b[1;33m)\u001b[0m\u001b[1;33m\u001b[0m\u001b[0m\n\u001b[0;32m    104\u001b[0m \u001b[1;33m\u001b[0m\u001b[0m\n\u001b[1;32m--> 105\u001b[1;33m             \u001b[0mquery\u001b[0m \u001b[1;33m=\u001b[0m \u001b[0mquery\u001b[0m \u001b[1;33m%\u001b[0m \u001b[0mescaped_args\u001b[0m\u001b[1;33m\u001b[0m\u001b[0m\n\u001b[0m\u001b[0;32m    106\u001b[0m \u001b[1;33m\u001b[0m\u001b[0m\n\u001b[0;32m    107\u001b[0m         \u001b[1;32mif\u001b[0m \u001b[0misinstance\u001b[0m\u001b[1;33m(\u001b[0m\u001b[0mquery\u001b[0m\u001b[1;33m,\u001b[0m \u001b[0mstr\u001b[0m\u001b[1;33m)\u001b[0m\u001b[1;33m:\u001b[0m\u001b[1;33m\u001b[0m\u001b[0m\n",
      "\u001b[1;31mTypeError\u001b[0m: not enough arguments for format string"
     ]
    }
   ],
   "source": [
    "import requests\n",
    "import re\n",
    "import pymysql\n",
    "from bs4 import BeautifulSoup\n",
    "header={'User-Agent':'Mozilla/5.0 (Linux; Android 6.0; Nexus 5 Build/MRA58N) AppleWebKit/537.36 (KHTML, like Gecko) Chrome/62.0.3202.75 Mobile Safari/537.36'}\n",
    "res=requests.get('http://www.pcauto.com.cn/',headers=header)\n",
    "res.encoding='gb2312'\n",
    "bs=BeautifulSoup(res.text,'lxml')\n",
    "\n",
    "#要闻区\n",
    "b=bs.select('.topic a')\n",
    "#s=getS(b)\n",
    "#getData(s,'要闻区文字链')\n",
    "\n",
    "#焦点图\n",
    "o=bs.select('.focus-wrap p')\n",
    "#oo=getS(o)\n",
    "#getData(oo,'焦点图')\n",
    "\n",
    "#看车\n",
    "h=bs.select('.tab-wrap .tit2 ')\n",
    "\n",
    "#getData(hh,'看车')\n",
    "\n",
    "#选车\n",
    "choice_car=bs.select('.itembox li a')\n",
    "data=Public.getData(choice_car,'选车')\n",
    "conn = pymysql.connect(host='127.0.0.1', port=3306, user='root', passwd='',db='my_file')\n",
    "cur=conn.cursor()\n",
    "cur.execute('insert into file_name2 (car,position,create_time,mesage,href) values (%s,%s,%s,%s,%s)',data)\n",
    "conn.commit()\n",
    "cur.close()\n",
    "\n",
    "conn.close()\n",
    "\n",
    "#论坛\n",
    "\n",
    "forum=bs.select('.box-bd')\n",
    "mes=[]\n",
    "for i in BeautifulSoup(str(forum[7]),'lxml').select('a'):\n",
    "    #mes.append(i['title'])\n",
    "    mes.append(i.text)\n",
    "getData(mes,'论坛')\n",
    "\n"
   ]
  },
  {
   "cell_type": "code",
   "execution_count": 3,
   "metadata": {},
   "outputs": [],
   "source": [
    "import pymysql\n",
    "conn = pymysql.connect(host='127.0.0.1', port=3306, user='root', passwd='',db='my_file')\n",
    "cur=conn.cursor()\n",
    "cur.execute('insert into file_name2 (car,position,create_time,mesage,href) values (%s,%s,%s,%s,%s)' ,['1','2','3','4','5'])\n",
    "conn.commit()\n",
    "cur.close()\n",
    "\n",
    "conn.close()\n"
   ]
  },
  {
   "cell_type": "code",
   "execution_count": 5,
   "metadata": {},
   "outputs": [],
   "source": [
    "import requests\n",
    "import re\n",
    "class Public:\n",
    "    \n",
    "    def getDatetime(url):\n",
    "        time=re.compile(r'(2017-\\d\\d-\\d\\d \\d\\d:\\d\\d:\\d\\d)')\n",
    "        return re.findall(time,requests.get(url).text)\n",
    "    \n",
    "    \n",
    "    def getData(lis,position):\n",
    "    \n",
    "        for j in lis:\n",
    "            a=[]\n",
    "            if '楼兰' in j.text:\n",
    "                time=Public.getDatetime(j['href'])[0]\n",
    "                a.append('楼兰',position,j.text,time,j['href'])\n",
    "            if '天籁' in j.text:\n",
    "                time=Public.getDatetime(j['href'])[0]\n",
    "                a.append('天籁',position,j.text,time,j['href'])\n",
    "            if '途乐' in j.text:\n",
    "                time=Public.getDatetime(j['href'])[0]\n",
    "                a.append('途乐',position,j.text,time,j['href'])\n",
    "            if '聆风' in j.text:\n",
    "                time=Public.getDatetime(j['href'])[0]\n",
    "                a.append('聆风',position,j.text,time,j['href'])\n",
    "            if '西玛' in j.text:\n",
    "                time=Public.getDatetime(j['href'])[0]\n",
    "                a.append('西玛',position,j.text,time,j['href'])\n",
    "            if 'GT-R' in j.text:\n",
    "                time=Public.getDatetime(j['href'])[0]\n",
    "                a.append('GT-R',position,j.text,time,j['href'])\n",
    "            if '东风日产' in j.text:\n",
    "                time=Public.getDatetime(j['href'])[0]\n",
    "                a.append('东风日产',position,j.text,time,j['href'])\n",
    "            return a"
   ]
  },
  {
   "cell_type": "code",
   "execution_count": null,
   "metadata": {},
   "outputs": [],
   "source": [
    "Public.getDatetime('http://news.58che.com/news/1899215.html')"
   ]
  }
 ],
 "metadata": {
  "kernelspec": {
   "display_name": "Python 3",
   "language": "python",
   "name": "python3"
  },
  "language_info": {
   "codemirror_mode": {
    "name": "ipython",
    "version": 3
   },
   "file_extension": ".py",
   "mimetype": "text/x-python",
   "name": "python",
   "nbconvert_exporter": "python",
   "pygments_lexer": "ipython3",
   "version": "3.6.3"
  }
 },
 "nbformat": 4,
 "nbformat_minor": 2
}

{
 "cells": [
  {
   "cell_type": "code",
   "execution_count": 26,
   "metadata": {},
   "outputs": [],
   "source": [
    "import requests\n",
    "import re\n",
    "import pymysql\n",
    "from bs4 import BeautifulSoup\n",
    "header={'User-Agent':'Mozilla/5.0 (Linux; Android 6.0; Nexus 5 Build/MRA58N) AppleWebKit/537.36 (KHTML, like Gecko) Chrome/62.0.3202.75 Mobile Safari/537.36'}\n",
    "res=requests.get('http://www.pcauto.com.cn/',headers=header)\n",
    "res.encoding='gb2312'\n",
    "bs=BeautifulSoup(res.text,'lxml')\n",
    "\n",
    "#要闻区\n",
    "b=bs.select('.topic a')\n",
    "#s=getS(b)\n",
    "#getData(s,'要闻区文字链')\n",
    "\n",
    "#焦点图\n",
    "o=bs.select('.focus-wrap p')\n",
    "#oo=getS(o)\n",
    "#getData(oo,'焦点图')\n",
    "\n",
    "#看车\n",
    "h=bs.select('.tab-wrap .tit2 ')\n",
    "\n",
    "#getData(hh,'看车')\n",
    "\n",
    "#选车\n",
    "choice_car=bs.select('.itembox li a')\n",
    "data=Public.getData(choice_car,'选车','太平洋汽车')\n",
    "conn = pymysql.connect(host='127.0.0.1', port=3306, user='root', passwd='',db='my_file',use_unicode=True, charset=\"utf8\")\n",
    "cur=conn.cursor()\n",
    "for d in data:\n",
    "    cur.execute('insert into file_name2 (car,position,mesage,create_time,href,webs) values (%s,%s,%s,%s,%s,%s)',d)\n",
    "conn.commit()\n",
    "cur.close()\n",
    "\n",
    "conn.close()\n",
    "\n",
    "#论坛\n",
    "\n",
    "forum=bs.select('.box-bd')\n",
    "mes=[]\n",
    "for i in BeautifulSoup(str(forum[7]),'lxml').select('a'):\n",
    "    #mes.append(i['title'])\n",
    "    mes.append(i.text)\n",
    "#getData(mes,'论坛')\n",
    "\n"
   ]
  },
  {
   "cell_type": "code",
   "execution_count": 24,
   "metadata": {},
   "outputs": [
    {
     "data": {
      "text/plain": [
       "[('楼兰',\n",
       "  '选车',\n",
       "  '“楼兰・2017凤凰时尚之选”颁奖盛典开幕',\n",
       "  '2017-11-10 10:05:31',\n",
       "  'http://www.pcauto.com.cn/news/1095/10952529.html',\n",
       "  '太平洋'),\n",
       " ('聆风',\n",
       "  '选车',\n",
       "  '下一代日产聆风谍照 启辰你跟不跟?',\n",
       "  '2017-08-02 09:54:38',\n",
       "  'http://autotech.pcauto.com.cn/969/9695194.html',\n",
       "  '太平洋')]"
      ]
     },
     "execution_count": 24,
     "metadata": {},
     "output_type": "execute_result"
    }
   ],
   "source": [
    "import requests\n",
    "import re\n",
    "import pymysql\n",
    "from bs4 import BeautifulSoup\n",
    "header={'User-Agent':'Mozilla/5.0 (Linux; Android 6.0; Nexus 5 Build/MRA58N) AppleWebKit/537.36 (KHTML, like Gecko) Chrome/62.0.3202.75 Mobile Safari/537.36'}\n",
    "res=requests.get('http://www.pcauto.com.cn/',headers=header)\n",
    "res.encoding='gb2312'\n",
    "bs=BeautifulSoup(res.text,'lxml')\n",
    "#选车\n",
    "choice_car=bs.select('.itembox li a')\n",
    "Public.getData(choice_car,'选车','太平洋')\n"
   ]
  },
  {
   "cell_type": "code",
   "execution_count": 17,
   "metadata": {},
   "outputs": [],
   "source": [
    "import pymysql\n",
    "conn = pymysql.connect(host='127.0.0.1', port=3306, user='root', passwd='',db='my_file',use_unicode=True, charset=\"utf8\")\n",
    "cur=conn.cursor()\n",
    "cur.execute('insert into file_name2 (car,position,create_time,mesage,href) values (%s,%s,%s,%s,%s)' ,['1','2dnaid\"你好\"','3','4','5'])\n",
    "conn.commit()\n",
    "cur.close()\n",
    "\n",
    "conn.close()\n"
   ]
  },
  {
   "cell_type": "code",
   "execution_count": 21,
   "metadata": {},
   "outputs": [],
   "source": [
    "import requests\n",
    "import re\n",
    "class Public:\n",
    "    \n",
    "    def getDatetime(url):\n",
    "        time=re.compile(r'(2017-\\d\\d-\\d\\d \\d\\d:\\d\\d:\\d\\d)')\n",
    "        return re.findall(time,requests.get(url).text)\n",
    "    \n",
    "    \n",
    "    def getData(lis,position,web):\n",
    "        a=[]\n",
    "        for j in lis:\n",
    "            \n",
    "            if '楼兰' in j.text:\n",
    "                time=Public.getDatetime(j['href'])[0]\n",
    "                a.append(('楼兰',position,j.text,time,j['href'],web))\n",
    "            if '天籁' in j.text:\n",
    "                time=Public.getDatetime(j['href'])[0]\n",
    "                a.append(('天籁',position,j.text,time,j['href'],web))\n",
    "            if '途乐' in j.text:\n",
    "                time=Public.getDatetime(j['href'])[0]\n",
    "                a.append(('途乐',position,j.text,time,j['href'],web))\n",
    "            if '聆风' in j.text:\n",
    "                time=Public.getDatetime(j['href'])[0]\n",
    "                a.append(('聆风',position,j.text,time,j['href'],web))\n",
    "            if '西玛' in j.text:\n",
    "                time=Public.getDatetime(j['href'])[0]\n",
    "                a.append(('西玛',position,j.text,time,j['href'],web))\n",
    "            if 'GT-R' in j.text:\n",
    "                time=Public.getDatetime(j['href'])[0]\n",
    "                a.append(('GT-R',position,j.text,time,j['href'],web))\n",
    "            if '东风日产' in j.text:\n",
    "                time=Public.getDatetime(j['href'])[0]\n",
    "                a.append(('东风日产',position,j.text,time,j['href'],web))\n",
    "        return a"
   ]
  },
  {
   "cell_type": "code",
   "execution_count": null,
   "metadata": {},
   "outputs": [],
   "source": [
    "Public.getDatetime('http://news.58che.com/news/1899215.html')"
   ]
  }
 ],
 "metadata": {
  "kernelspec": {
   "display_name": "Python 3",
   "language": "python",
   "name": "python3"
  },
  "language_info": {
   "codemirror_mode": {
    "name": "ipython",
    "version": 3
   },
   "file_extension": ".py",
   "mimetype": "text/x-python",
   "name": "python",
   "nbconvert_exporter": "python",
   "pygments_lexer": "ipython3",
   "version": "3.6.3"
  }
 },
 "nbformat": 4,
 "nbformat_minor": 2
}

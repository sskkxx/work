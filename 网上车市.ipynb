{
 "cells": [
  {
   "cell_type": "code",
   "execution_count": 3,
   "metadata": {},
   "outputs": [],
   "source": [
    "import requests\n",
    "import re\n",
    "import lxml\n",
    "import pandas as pd\n",
    "from bs4 import BeautifulSoup\n",
    "\n",
    "\n",
    "res=requests.get('http://www.cheshi.com/')\n",
    "res.encoding='utf-8'\n",
    "#一区\n",
    "bs=BeautifulSoup(res.text,'lxml')\n",
    "b=bs.select('.fall_info')\n",
    "s=''.join(map(str,b))\n",
    "jiaodian=re.compile(r'<h3><a href=.*?>(.*?)</a> </h3>')\n",
    "JD=re.findall(jiaodian,s)\n",
    "getData(JD[83:113],'评测文字链')\n",
    "getData(JD[53:83],'新车文字链')\n",
    "getData(JD[23:53],'最新文字链')\n",
    "getData(JD[113:143],'对比文字链')\n",
    "\n",
    "#焦点图\n",
    "\n",
    "focus=bs.select('.big_tab span')\n",
    "a=[]\n",
    "for f in focus:\n",
    "    a.append(f.text)\n",
    "getData(a,'焦点图')   "
   ]
  },
  {
   "cell_type": "code",
   "execution_count": 1,
   "metadata": {},
   "outputs": [],
   "source": [
    "def getData(lis,position):\n",
    "    for j in lis:\n",
    "        if '楼兰' in j:\n",
    "            print('楼兰',position,j)\n",
    "        if '天籁' in j:\n",
    "            print('天籁',position,j)\n",
    "        if '途乐' in j:\n",
    "            print('途乐',position,j)\n",
    "        if '聆风' in j:\n",
    "            print('聆风',position,j)\n",
    "        if '西玛' in j:\n",
    "            print('西玛',position,j)\n",
    "        if 'GT-R' in j:\n",
    "            print('GT-R',position,j)\n",
    "        if '东风日产' in j:\n",
    "            print('东风日产',position,j)"
   ]
  }
 ],
 "metadata": {
  "kernelspec": {
   "display_name": "Python 3",
   "language": "python",
   "name": "python3"
  },
  "language_info": {
   "codemirror_mode": {
    "name": "ipython",
    "version": 3
   },
   "file_extension": ".py",
   "mimetype": "text/x-python",
   "name": "python",
   "nbconvert_exporter": "python",
   "pygments_lexer": "ipython3",
   "version": "3.6.3"
  }
 },
 "nbformat": 4,
 "nbformat_minor": 2
}
